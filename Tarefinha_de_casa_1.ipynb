{
  "nbformat": 4,
  "nbformat_minor": 0,
  "metadata": {
    "colab": {
      "provenance": [],
      "include_colab_link": true
    },
    "kernelspec": {
      "name": "python3",
      "display_name": "Python 3"
    },
    "language_info": {
      "name": "python"
    }
  },
  "cells": [
    {
      "cell_type": "markdown",
      "metadata": {
        "id": "view-in-github",
        "colab_type": "text"
      },
      "source": [
        "<a href=\"https://colab.research.google.com/github/ariellyg/atividade.de.casa/blob/main/Tarefinha_de_casa_1.ipynb\" target=\"_parent\"><img src=\"https://colab.research.google.com/assets/colab-badge.svg\" alt=\"Open In Colab\"/></a>"
      ]
    },
    {
      "cell_type": "markdown",
      "source": [
        "1) Elabore um código em que existe as variáveis : aluno, nota1, nota2,nota3, media. Neste código você deve escolher uma string para a variável aluno, float para cada nota. Pesquise o cálculo da média aritmética e aplique o resuldado do cálculo na variável media. Por fim, usando o comando print, mostre o nome do aluno ao lado de sua media. Use a função print para mostrar o tipo da variável aluno e tipo da variável media."
      ],
      "metadata": {
        "id": "hQZSWBJlsdAn"
      }
    },
    {
      "cell_type": "code",
      "source": [
        "#Resposta\n",
        "aluno = 'Adrielly'\n",
        "nota1 = 8.5\n",
        "nota2 = 9.0\n",
        "nota3 = 9.5\n",
        "media = 9.0\n",
        "#exibição da variável media\n",
        "print(aluno, media) \n",
        "#exibição do tipo da variavel aluno\n",
        "print(type(aluno))\n",
        "#exibição do tipo da variavel media\n",
        "print(type(media))"
      ],
      "metadata": {
        "id": "0oJOVsXEsqvW",
        "colab": {
          "base_uri": "https://localhost:8080/"
        },
        "outputId": "c5e4405c-3fd8-4de3-951c-86c0a6b99c14"
      },
      "execution_count": 1,
      "outputs": [
        {
          "output_type": "stream",
          "name": "stdout",
          "text": [
            "Adrielly 9.0\n",
            "<class 'str'>\n",
            "<class 'float'>\n"
          ]
        }
      ]
    },
    {
      "cell_type": "markdown",
      "source": [
        "2) ELabore um código que realiza a concatenção de strings para formar um nome. Ao fim, exiba, através do comando print, o nome concatenado (nome_completo). "
      ],
      "metadata": {
        "id": "MQNGFrLrt59F"
      }
    },
    {
      "cell_type": "code",
      "source": [
        "#RESPOSTA\n",
        "nome = 'Arielly'\n",
        "sobrenome = 'Gonçalves'\n",
        "nome_completo = (nome + sobrenome)\n",
        "#exibição do nome concatenado\n",
        "print(nome_completo)\n"
      ],
      "metadata": {
        "id": "agNgURZovQAO",
        "colab": {
          "base_uri": "https://localhost:8080/"
        },
        "outputId": "9d45a79c-714e-48f4-b2b5-377fc53aa25a"
      },
      "execution_count": null,
      "outputs": [
        {
          "output_type": "stream",
          "name": "stdout",
          "text": [
            "AriellyGonçalves\n"
          ]
        }
      ]
    },
    {
      "cell_type": "markdown",
      "source": [
        "3) Elabore um código em que seja criada uma lista de alimentos em forma de string. Nesta lista você deve escolher  10 alimentos.\n",
        "* a) realize o print do último alimento usando index negativo\n",
        "* b) realize o print do quarto elemento da lista\n",
        "* c) realize o print dos 5 primeiros elementos da lista\n",
        "* d) realize o print do 3 ultimos elementos da lista\n",
        "* e) realize o print do terceiro até o sétimo elemento da lista\n"
      ],
      "metadata": {
        "id": "Jvb8nt2-vkyk"
      }
    },
    {
      "cell_type": "code",
      "source": [
        "#Resposta\n",
        "lista_de_alimentos =  ['arroz', 'feijão', 'cuscuz', 'bolo', 'tomate', 'peixe', 'macarrão', 'manga', 'uva', 'cenoura']\n",
        "#item a\n",
        "print(lista_de_alimentos[-1])\n",
        "#item b\n",
        "print(lista_de_alimentos[3])\n",
        "#item c\n",
        "print(lista_de_alimentos[:4])\n",
        "#item d\n",
        "print(lista_de_alimentos[6:])\n",
        "#item e\n",
        "print(lista_de_alimentos[1:6])"
      ],
      "metadata": {
        "id": "Ej916hE4x3vr",
        "colab": {
          "base_uri": "https://localhost:8080/"
        },
        "outputId": "950e31dd-6450-496c-b200-53c3dc3db111"
      },
      "execution_count": null,
      "outputs": [
        {
          "output_type": "stream",
          "name": "stdout",
          "text": [
            "cenoura\n",
            "bolo\n",
            "['arroz', 'feijão', 'cuscuz', 'bolo']\n",
            "['macarrão', 'manga', 'uva', 'cenoura']\n",
            "['feijão', 'cuscuz', 'bolo', 'tomate', 'peixe']\n"
          ]
        }
      ]
    },
    {
      "cell_type": "markdown",
      "source": [
        "4) Adapte a lista de alimentos criada na questão 3 para incluir o preço da cada alimento. Após cada string você deve incluir um valor numérico que representa o preço do alimento\n",
        "* a) Crie uma variavel `gasto_total` que recebe a soma de todos os preços, acessando a lista pelos indexes.\n",
        "* b) mostre via print o valor da variável `gasto_total`\n",
        "* c) crie uma nova lista chamada `alimentos_mais_caros` que contem os 3 alimentos mais caros. Nessa lista deve conter os alimentos com valor ao lado. a inclusão dos elementos na lista deve ser via index. Ex: `lista_nova = [lista_antiga[2],lista_antiga[3]...]`\n",
        "* d) mostre via print a lista `alimentos_mais_caros`"
      ],
      "metadata": {
        "id": "VBEp3lBnyQyt"
      }
    },
    {
      "cell_type": "code",
      "source": [
        "#resposta\n",
        "lista_de_alimentos_com_preco = ['arroz', 4.0,'feijão', 5.5, 'cuscuz', 2.5, 'bolo', 15.0, 'tomate', 3.5, 'peixe', 10.0, 'macarrão', 3.0, 'manga', 6.0,\n",
        "                                'uva', 5.0, 'cenoura', 4.0]\n",
        "#item a\n",
        "gasto_total = (lista_de_alimentos_com_preco[1] + lista_de_alimentos_com_preco[3] + lista_de_alimentos_com_preco[5] + lista_de_alimentos_com_preco[7] + \n",
        "lista_de_alimentos_com_preco[9] + lista_de_alimentos_com_preco[11] + lista_de_alimentos_com_preco[13] + lista_de_alimentos_com_preco[15] + \n",
        "lista_de_alimentos_com_preco[17] + lista_de_alimentos_com_preco[19])\n",
        "#item b\n",
        "print(gasto_total)\n",
        "#item c\n",
        "alimentos_mais_caros = [lista_de_alimentos_com_preco[6],lista_de_alimentos_com_preco[7],\n",
        "                        lista_de_alimentos_com_preco[10],lista_de_alimentos_com_preco[11],\n",
        "                        lista_de_alimentos_com_preco[14],lista_de_alimentos_com_preco[15]]\n",
        "#item d\n",
        "print(alimentos_mais_caros)\n"
      ],
      "metadata": {
        "id": "UA1X8iq71Die",
        "colab": {
          "base_uri": "https://localhost:8080/"
        },
        "outputId": "0d83b401-a05a-42fa-b13a-39480395d0e0"
      },
      "execution_count": null,
      "outputs": [
        {
          "output_type": "stream",
          "name": "stdout",
          "text": [
            "58.5\n",
            "['bolo', 15.0, 'peixe', 10.0, 'manga', 6.0]\n"
          ]
        }
      ]
    },
    {
      "cell_type": "markdown",
      "source": [
        "5) Adpate a lista de alimentos criada na questão 4. Agora a estrutura deve ser uma lista de listas. cada elemento com preço deve ser um lista, ou seja, a lista de alimentos deve conter 5 listas, em que cada lista possui um alimento e seu preço.\n",
        "* a) Crie uma variável `lista3` para ammazenar a terceiira lista contida na lista de alimentos. \n",
        "* b) Exiba a variável `lista3` \n",
        "* c) Crie uma variável `lista2a4` para armazenar da segunda até a quarta lista contida na lsita de alimentos.\n",
        "* d) Acessando os indexes da lista de alimentos no modo exemplo `lista[id1][id2]` realize os prints:\n",
        "** d1) do preço do terceiro alimento da lista\n",
        "** d2) do alimento da quarta lista\n",
        "** d3) do preço do quinto elemento da lista\n",
        "** d4) do alimento da primeira lista."
      ],
      "metadata": {
        "id": "nqp01e8g16FG"
      }
    },
    {
      "cell_type": "code",
      "source": [
        "#resposta\n",
        "lista_de_alimentos_adaptada =  [['arroz', 4.0], ['bolo', 15.0], ['peixe', 10.0], ['macarrão', 3.0], ['uva', 5.0]]\n",
        "#item a\n",
        "lista3 = lista_de_alimentos_adaptada[2]\n",
        "#item b\n",
        "print(lista3)\n",
        "#item c\n",
        "lista2a4 = lista_de_alimentos_adaptada[1:4]\n",
        "print(lista2a4)\n",
        "#item d1\n",
        "print(lista_de_alimentos_adaptada[2][1])\n",
        "#item d2\n",
        "print(lista_de_alimentos_adaptada[3][0])\n",
        "#item d3\n",
        "print(lista_de_alimentos_adaptada[4][1])\n",
        "#item d4\n",
        "print(lista_de_alimentos_adaptada[0][0])"
      ],
      "metadata": {
        "id": "XTOqNZ1a4s-H",
        "colab": {
          "base_uri": "https://localhost:8080/"
        },
        "outputId": "186fa00c-f164-41d5-f0ce-bc022ed70467"
      },
      "execution_count": null,
      "outputs": [
        {
          "output_type": "stream",
          "name": "stdout",
          "text": [
            "['peixe', 10.0]\n",
            "[['bolo', 15.0], ['peixe', 10.0], ['macarrão', 3.0]]\n",
            "10.0\n",
            "macarrão\n",
            "5.0\n",
            "arroz\n"
          ]
        }
      ]
    },
    {
      "cell_type": "markdown",
      "source": [
        "**Questões de classe da aula passada:**\n",
        "\n",
        "8)Adicione ['poolhouse', 24.5] no fim da lista e atribua em uma nova lista chamada de areas_1\n",
        "\n",
        "8.1)Adicione ['garage', 15.5] no fim da lista areas_1 e atribua em uma nova lista chamada areas_2.\n",
        "\n",
        "8.2)Exiba areas_2"
      ],
      "metadata": {
        "id": "eRMfF1aGDJMr"
      }
    },
    {
      "cell_type": "code",
      "source": [
        "#resposta\n",
        "areas = ['hallway', 14.0, 'kitchen', 18.0, 'living', 20.0, 'bedroom', 10.75, 'bathroom', 10.0]\n",
        "#questão 8\n",
        "areas_1 =areas + ['poolhouse', 24.5]\n",
        "#item 8.1\n",
        "areas_2 = areas_1 + ['garage', 15.5]\n",
        "#item 8.2\n",
        "print(areas_2)"
      ],
      "metadata": {
        "colab": {
          "base_uri": "https://localhost:8080/"
        },
        "id": "M1JDPkyIDGbl",
        "outputId": "c738fd1c-ca23-4da5-aded-b78ec11df0f3"
      },
      "execution_count": null,
      "outputs": [
        {
          "output_type": "stream",
          "name": "stdout",
          "text": [
            "['hallway', 14.0, 'kitchen', 18.0, 'living', 20.0, 'bedroom', 10.75, 'bathroom', 10.0, 'poolhouse', 24.5, 'garage', 15.5]\n"
          ]
        }
      ]
    },
    {
      "cell_type": "markdown",
      "source": [
        "9)Execute o código e observe que a modificação realizada em areas_copy afetou areas. Corrija esse código e exiba areas e areas_copy no fim do código."
      ],
      "metadata": {
        "id": "BM6Ao7glI8vb"
      }
    },
    {
      "cell_type": "code",
      "source": [
        "#resposta\n",
        "areas = [ 14.0, 18.0, 20.0, 10.75, 10.0]\n",
        "areas_copy = areas\n",
        "areas_copy[0] = 12.0\n",
        "print(areas)"
      ],
      "metadata": {
        "colab": {
          "base_uri": "https://localhost:8080/"
        },
        "id": "zb7x7blPG2E1",
        "outputId": "d565a0f1-652a-4bcc-ca1b-a7a756842181"
      },
      "execution_count": null,
      "outputs": [
        {
          "output_type": "stream",
          "name": "stdout",
          "text": [
            "[12.0, 18.0, 20.0, 10.75, 10.0]\n"
          ]
        }
      ]
    }
  ]
}